{
 "cells": [
  {
   "cell_type": "markdown",
   "metadata": {},
   "source": [
    "# data to htmx template\n"
   ]
  },
  {
   "cell_type": "code",
   "execution_count": null,
   "metadata": {},
   "outputs": [],
   "source": [
    "json_to_htmx_data = \n",
    "{\n",
    "    \"title\" : \"<h1> $title$ </h1>\",\n",
    "    \"text-block\" : \"<p> $text-block$ </p>\",\n",
    "    \"image-block\" : \"<img src='$image-block$' />\",\n",
    "    \"question-block\" : \"<p> $question-block$ </p>\", # edit\n",
    "    \"poll-block\" : \"<p> $poll-block$ </p>\", # edit\n",
    "    \"heading-block\" : \"<h1> $heading-block$ </h1>\"\n",
    "\n",
    "}\n",
    "\n",
    "def json_to_htmx_response(json_data, project_id):\n",
    "    '''\n",
    "    1. gets data like \n",
    "\n",
    "    {\n",
    "    \"title\": \"lesson title\",\n",
    "    \"text-block\": \"text one\",\n",
    "    \"image-block\": \"image one url\",\n",
    "    \"question-block\": \n",
    "    {\n",
    "        \"question\": \"question one\",\n",
    "        \"answer-wrong\": \"answer one\",\n",
    "        \"answer-right\": \"answer two\"\n",
    "    },\n",
    "    \"poll-block\" : \n",
    "    {\n",
    "        \"question\": \"question one\",\n",
    "        \"answers\": \n",
    "        {\n",
    "            \"answer one\" : 0,\n",
    "            \"answer two\" : 0\n",
    "        }\n",
    "    },\n",
    "    \"heading-block\": \"heading one\"\n",
    "    }\n",
    "\n",
    "    2. convert to a dict\n",
    "\n",
    "    3. convert dict to a htmx code\n",
    "    '''\n",
    "\n",
    "    pass"
   ]
  }
 ],
 "metadata": {
  "interpreter": {
   "hash": "e7370f93d1d0cde622a1f8e1c04877d8463912d04d973331ad4851f04de6915a"
  },
  "kernelspec": {
   "display_name": "Python 3.9.9 64-bit",
   "language": "python",
   "name": "python3"
  },
  "language_info": {
   "name": "python",
   "version": "3.9.9"
  },
  "orig_nbformat": 4
 },
 "nbformat": 4,
 "nbformat_minor": 2
}
